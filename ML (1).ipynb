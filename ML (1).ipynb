{
 "cells": [
  {
   "cell_type": "code",
   "execution_count": 5,
   "metadata": {},
   "outputs": [],
   "source": [
    "import json\n",
    "import pandas as pd\n",
    "import numpy as np\n",
    "import matplotlib.pyplot as plt\n",
    "\n"
   ]
  },
  {
   "cell_type": "code",
   "execution_count": 6,
   "metadata": {},
   "outputs": [],
   "source": [
    "new_df = pd.read_csv('filename.csv')"
   ]
  },
  {
   "cell_type": "code",
   "execution_count": 7,
   "metadata": {},
   "outputs": [
    {
     "name": "stdout",
     "output_type": "stream",
     "text": [
      "<class 'pandas.core.frame.DataFrame'>\n",
      "RangeIndex: 33032 entries, 0 to 33031\n",
      "Data columns (total 12 columns):\n",
      "Unnamed: 0     33032 non-null int64\n",
      "ï..title       33032 non-null object\n",
      "year           33032 non-null int64\n",
      "director       33032 non-null int64\n",
      "actor1         33032 non-null int64\n",
      "actor2         33032 non-null int64\n",
      "genre          33032 non-null int64\n",
      "rating         33032 non-null float64\n",
      "country        33032 non-null object\n",
      "releasedate    29223 non-null object\n",
      "rating2        33032 non-null int64\n",
      "year2          33032 non-null int64\n",
      "dtypes: float64(1), int64(8), object(3)\n",
      "memory usage: 3.0+ MB\n"
     ]
    }
   ],
   "source": [
    "new_df.info()"
   ]
  },
  {
   "cell_type": "code",
   "execution_count": 8,
   "metadata": {},
   "outputs": [
    {
     "data": {
      "text/plain": [
       "<matplotlib.figure.Figure at 0x22ba9706b00>"
      ]
     },
     "metadata": {},
     "output_type": "display_data"
    },
    {
     "data": {
      "image/png": "[encoded data removed]",
      "text/plain": [
       "<matplotlib.figure.Figure at 0x22ba973cbe0>"
      ]
     },
     "metadata": {},
     "output_type": "display_data"
    }
   ],
   "source": [
    "plt.figure();\n",
    "\n",
    "new_df.plot.hist(alpha=0.5)\n",
    "\n",
    "plt.show()"
   ]
  },
  {
   "cell_type": "code",
   "execution_count": 10,
   "metadata": {},
   "outputs": [
    {
     "name": "stdout",
     "output_type": "stream",
     "text": [
      "<class 'pandas.core.frame.DataFrame'>\n",
      "RangeIndex: 33032 entries, 0 to 33031\n",
      "Data columns (total 5 columns):\n",
      "actor1      33032 non-null int64\n",
      "actor2      33032 non-null int64\n",
      "director    33032 non-null int64\n",
      "year2       33032 non-null int64\n",
      "rating2     33032 non-null int64\n",
      "dtypes: int64(5)\n",
      "memory usage: 1.3 MB\n",
      "<class 'pandas.core.frame.DataFrame'>\n",
      "RangeIndex: 33032 entries, 0 to 33031\n",
      "Data columns (total 1 columns):\n",
      "genre    33032 non-null int64\n",
      "dtypes: int64(1)\n",
      "memory usage: 258.1 KB\n"
     ]
    }
   ],
   "source": [
    "X = new_df[[ 'actor1', 'actor2', 'director','year2','rating2']]\n",
    "y = new_df[['genre']]\n",
    "\n",
    "X.info()\n",
    "y.info()"
   ]
  },
  {
   "cell_type": "code",
   "execution_count": 14,
   "metadata": {},
   "outputs": [],
   "source": [
    "from sklearn.preprocessing import OneHotEncoder\n",
    "enc=OneHotEncoder(sparse=False)\n",
    "X_train_1=X_train\n",
    "X_test_1=X_test\n",
    "columns=[ 'actor1', 'actor2', 'director']"
   ]
  },
  {
   "cell_type": "code",
   "execution_count": null,
   "metadata": {},
   "outputs": [],
   "source": [
    "for col in columns:\n",
    "       # creating an exhaustive list of all possible categorical values\n",
    "       data=X_train[[col]].append(X_test[[col]])\n",
    "       enc.fit(data)\n",
    "       # Fitting One Hot Encoding on train data\n",
    "       temp = enc.transform(X_train[[col]])\n",
    "       # Changing the encoded features into a data frame with new column names\n",
    "       temp=pd.DataFrame(temp,columns=[(col+\"_\"+str(i)) for i in data[col]\n",
    "            .value_counts().index])\n",
    "       # In side by side concatenation index values should be same\n",
    "       # Setting the index values similar to the X_train data frame\n",
    "       temp=temp.set_index(X_train.index.values)\n",
    "       # adding the new One Hot Encoded varibales to the train data frame\n",
    "       X_train_1=pd.concat([X_train_1,temp],axis=1)\n",
    "       # fitting One Hot Encoding on test data\n",
    "       temp = enc.transform(X_test[[col]])\n",
    "       # changing it into data frame and adding column names\n",
    "       temp=pd.DataFrame(temp,columns=[(col+\"_\"+str(i)) for i in data[col]\n",
    "            .value_counts().index])\n",
    "       # Setting the index for proper concatenation\n",
    "       temp=temp.set_index(X_test.index.values)\n",
    "       # adding the new One Hot Encoded varibales to test data frame\n",
    "       X_test_1=pd.concat([X_test_1,temp],axis=1)"
   ]
  },
  {
   "cell_type": "code",
   "execution_count": null,
   "metadata": {},
   "outputs": [],
   "source": [
    "\n",
    "from sklearn.model_selection import train_test_split\n",
    "X_train, X_test, y_train, y_test = train_test_split(X, y, test_size=0.25, random_state=1)\n"
   ]
  },
  {
   "cell_type": "code",
   "execution_count": null,
   "metadata": {},
   "outputs": [],
   "source": [
    "from sklearn.linear_model import LinearRegression\n",
    "regression_model = LinearRegression()\n",
    "regression_model.fit(X_train, y_train)\n"
   ]
  },
  {
   "cell_type": "code",
   "execution_count": null,
   "metadata": {},
   "outputs": [],
   "source": [
    "regression_model.score(X_test, y_test)"
   ]
  },
  {
   "cell_type": "code",
   "execution_count": null,
   "metadata": {},
   "outputs": [],
   "source": []
  }
 ],
 "metadata": {
  "kernelspec": {
   "display_name": "Python 3",
   "language": "python",
   "name": "python3"
  },
  "language_info": {
   "codemirror_mode": {
    "name": "ipython",
    "version": 3
   },
   "file_extension": ".py",
   "mimetype": "text/x-python",
   "name": "python",
   "nbconvert_exporter": "python",
   "pygments_lexer": "ipython3",
   "version": "3.5.0"
  }
 },
 "nbformat": 4,
 "nbformat_minor": 2
}

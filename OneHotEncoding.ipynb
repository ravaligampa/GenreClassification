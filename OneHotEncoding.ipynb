{
 "cells": [
  {
   "cell_type": "code",
   "execution_count": 2,
   "metadata": {},
   "outputs": [],
   "source": [
    "import pandas as pd\n",
    "data = pd.read_csv(\"FinalCleaned.csv\")"
   ]
  },
  {
   "cell_type": "code",
   "execution_count": 3,
   "metadata": {},
   "outputs": [],
   "source": [
    "import copy\n",
    "from sklearn.preprocessing import OneHotEncoder"
   ]
  },
  {
   "cell_type": "code",
   "execution_count": 5,
   "metadata": {},
   "outputs": [
    {
     "name": "stdout",
     "output_type": "stream",
     "text": [
      "<class 'pandas.core.frame.DataFrame'>\n",
      "RangeIndex: 33032 entries, 0 to 33031\n",
      "Data columns (total 4 columns):\n",
      "actor1      33032 non-null object\n",
      "actor2      33032 non-null object\n",
      "director    33032 non-null object\n",
      "title       33032 non-null object\n",
      "dtypes: object(4)\n",
      "memory usage: 1.0+ MB\n",
      "<class 'pandas.core.frame.DataFrame'>\n",
      "RangeIndex: 33032 entries, 0 to 33031\n",
      "Data columns (total 1 columns):\n",
      "genre    33032 non-null object\n",
      "dtypes: object(1)\n",
      "memory usage: 258.1+ KB\n"
     ]
    }
   ],
   "source": [
    "X = data[['actor1', 'actor2', 'director', 'title']]\n",
    "y = data[['genre']]\n",
    "\n",
    "X.info()\n",
    "y.info()"
   ]
  },
  {
   "cell_type": "code",
   "execution_count": 6,
   "metadata": {},
   "outputs": [],
   "source": [
    "from sklearn.model_selection import train_test_split\n",
    "\n",
    "# Split X and y into X_\n",
    "X_train, X_test, y_train, y_test = train_test_split(X, y, test_size=0.25, random_state=1)"
   ]
  },
  {
   "cell_type": "code",
   "execution_count": 33,
   "metadata": {},
   "outputs": [
    {
     "name": "stderr",
     "output_type": "stream",
     "text": [
      "c:\\users\\raval\\appdata\\local\\programs\\python\\python35\\lib\\site-packages\\sklearn\\utils\\validation.py:578: DataConversionWarning: A column-vector y was passed when a 1d array was expected. Please change the shape of y to (n_samples, ), for example using ravel().\n",
      "  y = column_or_1d(y, warn=True)\n"
     ]
    },
    {
     "name": "stdout",
     "output_type": "stream",
     "text": [
      "2.06525529174\n"
     ]
    },
    {
     "name": "stderr",
     "output_type": "stream",
     "text": [
      "c:\\users\\raval\\appdata\\local\\programs\\python\\python35\\lib\\site-packages\\ipykernel_launcher.py:40: DataConversionWarning: A column-vector y was passed when a 1d array was expected. Please change the shape of y to (n_samples,), for example using ravel().\n"
     ]
    },
    {
     "name": "stdout",
     "output_type": "stream",
     "text": [
      "2.08500717452\n",
      "(24774, 101)\n"
     ]
    }
   ],
   "source": [
    "import copy\n",
    "from sklearn.linear_model import LogisticRegression\n",
    "from sklearn.ensemble import RandomForestClassifier\n",
    "from sklearn.preprocessing import OneHotEncoder\n",
    "from sklearn.metrics import accuracy_score\n",
    "from sklearn.metrics import precision_score\n",
    "from sklearn.metrics import recall_score\n",
    "#from sklearn.metrics import accuarcy_score\n",
    "enc = OneHotEncoder(handle_unknown='ignore')\n",
    "from sklearn import preprocessing\n",
    "les = []\n",
    "l = LogisticRegression()\n",
    "r = RandomForestClassifier(n_estimators=25,max_depth=10)\n",
    "X_train_rare = copy.copy(X_train)\n",
    "X_test_rare = copy.copy(X_test)\n",
    "X_train_rare[\"test\"]=0\n",
    "X_test_rare[\"test\"]=1\n",
    "temp_df = pd.concat([X_train_rare,X_test_rare],axis=0)\n",
    "names = list(X_train_rare.columns.values)\n",
    "temp_df = pd.concat([X_train_rare,X_test_rare],axis=0)\n",
    "for i in names:\n",
    "    temp_df.loc[temp_df[i].value_counts()[temp_df[i]].values < 20, i] = \"RARE_VALUE\"\n",
    "for i in range(temp_df.shape[1]):\n",
    "    temp_df.iloc[:,i]=temp_df.iloc[:,i].astype('str')\n",
    "X_train_rare = temp_df[temp_df[\"test\"]==\"0\"].iloc[:,:-1].values\n",
    "X_test_rare = temp_df[temp_df[\"test\"]==\"1\"].iloc[:,:-1].values\n",
    "for i in range(X_train_rare.shape[1]):\n",
    "    le = preprocessing.LabelEncoder()\n",
    "    le.fit(temp_df.iloc[:,:-1].iloc[:, i])\n",
    "    les.append(le)\n",
    "    X_train_rare[:, i] = le.transform(X_train_rare[:, i])\n",
    "    X_test_rare[:, i] = le.transform(X_test_rare[:, i])\n",
    "enc.fit(X_train_rare)\n",
    "X_train_rare = enc.transform(X_train_rare)\n",
    "X_test_rare = enc.transform(X_test_rare)\n",
    "l.fit(X_train_rare,y_train)\n",
    "y_pred = l.predict_proba(X_test_rare)\n",
    "print(log_loss(y_test,y_pred))\n",
    "\n",
    "r.fit(X_train_rare,y_train)\n",
    "y_pred = r.predict_proba(X_test_rare)\n",
    "b=log_loss(y_test,y_pred)\n",
    "print (b)\n",
    "print(X_train_rare.shape)"
   ]
  },
  {
   "cell_type": "code",
   "execution_count": null,
   "metadata": {},
   "outputs": [],
   "source": []
  },
  {
   "cell_type": "code",
   "execution_count": null,
   "metadata": {},
   "outputs": [],
   "source": []
  },
  {
   "cell_type": "code",
   "execution_count": null,
   "metadata": {},
   "outputs": [],
   "source": []
  }
 ],
 "metadata": {
  "kernelspec": {
   "display_name": "Python 3",
   "language": "python",
   "name": "python3"
  },
  "language_info": {
   "codemirror_mode": {
    "name": "ipython",
    "version": 3
   },
   "file_extension": ".py",
   "mimetype": "text/x-python",
   "name": "python",
   "nbconvert_exporter": "python",
   "pygments_lexer": "ipython3",
   "version": "3.5.0"
  }
 },
 "nbformat": 4,
 "nbformat_minor": 2
}
